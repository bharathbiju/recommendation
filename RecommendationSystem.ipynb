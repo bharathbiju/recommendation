{
  "nbformat": 4,
  "nbformat_minor": 0,
  "metadata": {
    "colab": {
      "name": "RecommendationSystem.ipynb",
      "provenance": [],
      "include_colab_link": true
    },
    "kernelspec": {
      "name": "python3",
      "display_name": "Python 3"
    }
  },
  "cells": [
    {
      "cell_type": "markdown",
      "metadata": {
        "id": "view-in-github",
        "colab_type": "text"
      },
      "source": [
        "<a href=\"https://colab.research.google.com/github/bharathbiju/recommendation/blob/one_run_jason/RecommendationSystem.ipynb\" target=\"_parent\"><img src=\"https://colab.research.google.com/assets/colab-badge.svg\" alt=\"Open In Colab\"/></a>"
      ]
    },
    {
      "cell_type": "code",
      "metadata": {
        "id": "Rhg4OPtDS1am",
        "colab_type": "code",
        "outputId": "79dd0b4f-108a-44c7-ed29-1081cb14b596",
        "colab": {
          "resources": {
            "http://localhost:8080/nbextensions/google.colab/files.js": {
              "data": "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",
              "ok": true,
              "headers": [
                [
                  "content-type",
                  "application/javascript"
                ]
              ],
              "status": 200,
              "status_text": ""
            }
          },
          "base_uri": "https://localhost:8080/",
          "height": 74
        }
      },
      "source": [
        "from google.colab import files\n",
        "uploaded = files.upload()"
      ],
      "execution_count": 48,
      "outputs": [
        {
          "output_type": "display_data",
          "data": {
            "text/html": [
              "\n",
              "     <input type=\"file\" id=\"files-e0386c91-1f83-4e29-9773-4e8d8934aa62\" name=\"files[]\" multiple disabled />\n",
              "     <output id=\"result-e0386c91-1f83-4e29-9773-4e8d8934aa62\">\n",
              "      Upload widget is only available when the cell has been executed in the\n",
              "      current browser session. Please rerun this cell to enable.\n",
              "      </output>\n",
              "      <script src=\"/nbextensions/google.colab/files.js\"></script> "
            ],
            "text/plain": [
              "<IPython.core.display.HTML object>"
            ]
          },
          "metadata": {
            "tags": []
          }
        },
        {
          "output_type": "stream",
          "text": [
            "Saving plain list.csv to plain list (1).csv\n"
          ],
          "name": "stdout"
        }
      ]
    },
    {
      "cell_type": "code",
      "metadata": {
        "id": "E3O9HPuXVXte",
        "colab_type": "code",
        "outputId": "3c2e8a07-14bb-4e86-d1a6-a4505affeef2",
        "colab": {
          "resources": {
            "http://localhost:8080/nbextensions/google.colab/files.js": {
              "data": "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",
              "ok": true,
              "headers": [
                [
                  "content-type",
                  "application/javascript"
                ]
              ],
              "status": 200,
              "status_text": ""
            }
          },
          "base_uri": "https://localhost:8080/",
          "height": 74
        }
      },
      "source": [
        "from google.colab import files\n",
        "uploaded = files.upload()"
      ],
      "execution_count": 0,
      "outputs": [
        {
          "output_type": "display_data",
          "data": {
            "text/html": [
              "\n",
              "     <input type=\"file\" id=\"files-1be19b0e-ecbb-4e82-b599-c54bc9e51d1b\" name=\"files[]\" multiple disabled />\n",
              "     <output id=\"result-1be19b0e-ecbb-4e82-b599-c54bc9e51d1b\">\n",
              "      Upload widget is only available when the cell has been executed in the\n",
              "      current browser session. Please rerun this cell to enable.\n",
              "      </output>\n",
              "      <script src=\"/nbextensions/google.colab/files.js\"></script> "
            ],
            "text/plain": [
              "<IPython.core.display.HTML object>"
            ]
          },
          "metadata": {
            "tags": []
          }
        },
        {
          "output_type": "stream",
          "text": [
            "Saving test.json to test.json\n"
          ],
          "name": "stdout"
        }
      ]
    },
    {
      "cell_type": "code",
      "metadata": {
        "id": "OEwApJO14lOQ",
        "colab_type": "code",
        "outputId": "dad6963f-9967-41b9-8896-1321fc3e3812",
        "colab": {
          "base_uri": "https://localhost:8080/",
          "height": 122
        }
      },
      "source": [
        "\n",
        "# import pandas library \n",
        "import pandas as pd \n",
        "dict={}\n",
        "dlist=[]\n",
        "cour=''\n",
        "cor=''\n",
        "# Get the data \n",
        "# column_names = ['user_id', 'item_id', 'rating', 'timestamp'] \n",
        "  \n",
        "# path = 'https://media.geeksforgeeks.org/wp-content/uploads/file.tsv'\n",
        "  \n",
        "# df = pd.read_csv(path, sep='\\t', names=column_names)\n",
        "\n",
        "df =  pd.read_csv(\"10th-recommendation-list.csv\")\n",
        "  \n",
        "# Check the head of the data \n",
        "# df.head() \n",
        "movie_titles = pd.read_csv('10th-recommendation-ratingsuh.csv') \n",
        "# movie_titles.head() \n",
        "data = pd.merge(df, movie_titles, on='Item_id') \n",
        "# data.head() \n",
        "data.groupby('Course')['rating'].mean().sort_values(ascending=False).head()\n",
        "ratings = pd.DataFrame(data.groupby('Course')['rating'].mean())  \n",
        "  \n",
        "ratings['num of ratings'] = pd.DataFrame(data.groupby('Course')['rating'].count()) \n",
        "  \n",
        "# ratings.head() \n",
        "# import matplotlib.pyplot as plt \n",
        "# import seaborn as sns \n",
        "  \n",
        "# sns.set_style('dark') \n",
        "# %matplotlib inline \n",
        "# plt.figure(figsize =(10, 4)) \n",
        "  \n",
        "# ratings['num of ratings'].hist(bins = 70) \n",
        "# plt.figure(figsize =(10, 4)) \n",
        "  \n",
        "# ratings['rating'].hist(bins = 70) \n",
        "moviemat = data.pivot_table(index ='userid', \n",
        "              columns ='Course', values ='rating') \n",
        "  \n",
        "# moviemat.head() \n",
        "kiss=df.values.tolist()\n",
        "for i in kiss:\n",
        "  inputcourse=str(i[1]) \n",
        "  # ratings.sort_values('num of ratings', ascending = False).head(50)\n",
        "  Civil_Engineering_ratings = moviemat[inputcourse] \n",
        "\n",
        "    \n",
        "  # Civil_Engineering_ratings.head()  \n",
        "  # analysing correlation with similar movies \n",
        "  similar_to_starwars = moviemat.corrwith(Civil_Engineering_ratings) \n",
        "  # similar_to_liarliar = moviemat.corrwith(liarliar_user_ratings) \n",
        "    \n",
        "  corr_starwars = pd.DataFrame(similar_to_starwars, columns =['Correlation']) \n",
        "  corr_starwars.dropna(inplace = True) \n",
        "    \n",
        "  # corr_starwars.head() \n",
        "  # Similar movies like starwars corr_starwars.sort_values('Correlation', ascending = False).head(10) \n",
        "  # corr_starwars = corr_starwars.join(ratings['num of ratings']) \n",
        "    \n",
        "  # corr_starwars.head() \n",
        "    \n",
        "  # corr_starwars[corr_starwars['num of ratings']>10].sort_values('Correlation', ascending = False).head() \n",
        "\n",
        "\n",
        "  corr_starwars.sort_values(\"Correlation\", axis=0, \n",
        "                  ascending=False, inplace=True) \n",
        "  fav_course=corr_starwars.loc[corr_starwars.Correlation>0]\n",
        "  # result=fav_course.values.tolist()\n",
        "  # print(fav_course.info())\n",
        "  # print (result)\n",
        "  # print (fav_course.info())\n",
        "  # print (fav_course.to_dict())\n",
        "  info_dic=fav_course.to_dict()\n",
        "  res=info_dic['Correlation']\n",
        "  list = [(k, v) for k, v in res.items()] \n",
        "  # print(list)\n",
        "  count=0\n",
        "  dict = {\"favcour\": [], \"favcourcorl\": []} \n",
        "  for i in list:\n",
        "    cour+=\"#\"+str(i[0])\n",
        "    cor+=\"#\"+str(i[1])\n",
        "  dict.update([ ('input', inputcourse) ,('favcour', cour) , ('favcourcorl', cor)] )\n",
        "  dlist.append(dict)\n",
        "  # print(dict,count)\n",
        "  count=count+1\n",
        "  dict={}\n",
        "  cour=''\n",
        "  cor=''\n",
        "  inputcourse=''\n",
        "print (dlist)\n",
        "# print (fav_course)\n",
        "dis_course=corr_starwars.loc[corr_starwars.Correlation<0]\n",
        "# print (dis_course)"
      ],
      "execution_count": 80,
      "outputs": [
        {
          "output_type": "stream",
          "text": [
            "/usr/local/lib/python3.6/dist-packages/numpy/lib/function_base.py:2526: RuntimeWarning: Degrees of freedom <= 0 for slice\n",
            "  c = cov(x, y, rowvar)\n",
            "/usr/local/lib/python3.6/dist-packages/numpy/lib/function_base.py:2455: RuntimeWarning: divide by zero encountered in true_divide\n",
            "  c *= np.true_divide(1, fact)\n"
          ],
          "name": "stderr"
        },
        {
          "output_type": "stream",
          "text": [
            "[{'favcour': '#ba_english#ba_history#g2', 'favcourcorl': '#1.0#0.2672612419124244#0.21627614555592958', 'input': 'ba_english'}, {'favcour': '#ba_political_science#ba_psychology#g1#g3', 'favcourcorl': '#1.0#0.9999999999999999#0.13245323570650436#0.13245323570650436', 'input': 'ba_political_science'}, {'favcour': '#ba_history#ba_ancient_history#ba_english#ba_ancient_indian_culture#g2', 'favcourcorl': '#1.0#0.549399185367928#0.2672612419124244#0.26024171938480806#0.16035674514745465', 'input': 'ba_history'}, {'favcour': '#ba_psychology#ba_political_science#ba_philosophy', 'favcourcorl': '#1.0#0.9999999999999999#0.6708203932499369', 'input': 'ba_psychology'}, {'favcour': '#ba_philosophy#ba_psychology#g3#ba_hindi', 'favcourcorl': '#0.9999999999999998#0.6708203932499369#0.4274373669939282#0.3333333333333333', 'input': 'ba_philosophy'}, {'favcour': '#ba_social_work#g3', 'favcourcorl': '#1.0#0.5144957554275266', 'input': 'ba_social_work'}, {'favcour': '#ba_economics#g3', 'favcourcorl': '#1.0#0.3110855084191276', 'input': 'ba_economics'}, {'favcour': '#ba_archaeology', 'favcourcorl': '#0.9999999999999998', 'input': 'ba_archaeology'}, {'favcour': '#ba_sociology', 'favcourcorl': '#1.0', 'input': 'ba_sociology'}, {'favcour': '#ba_geography#g1', 'favcourcorl': '#1.0#0.6000000000000002', 'input': 'ba_geography'}, {'favcour': '#ba_anthropology', 'favcourcorl': '#0.9999999999999999', 'input': 'ba_anthropology'}, {'favcour': '#ba_linguistics', 'favcourcorl': '#1.0', 'input': 'ba_linguistics'}, {'favcour': '#ba_rural_studies#g3', 'favcourcorl': '#1.0#0.42257712736425834', 'input': 'ba_rural_studies'}, {'favcour': '#ba_hindi#ba_philosophy', 'favcourcorl': '#1.0#0.3333333333333333', 'input': 'ba_hindi'}, {'favcour': '#ba_bengali', 'favcourcorl': '#1.0', 'input': 'ba_bengali'}, {'favcour': '#ba_tamil#g1', 'favcourcorl': '#1.0#0.5960395606792698', 'input': 'ba_tamil'}, {'favcour': '', 'favcourcorl': '', 'input': 'ba_marathi'}, {'favcour': '', 'favcourcorl': '', 'input': 'ba_telugu'}, {'favcour': '', 'favcourcorl': '', 'input': 'ba_kannada'}, {'favcour': '', 'favcourcorl': '', 'input': 'ba_malayalam'}, {'favcour': '', 'favcourcorl': '', 'input': 'ba_assamese'}, {'favcour': '#ba_bihari', 'favcourcorl': '#0.9999999999999999', 'input': 'ba_bihari'}, {'favcour': '#ba_odiya', 'favcourcorl': '#1.0', 'input': 'ba_odiya'}, {'favcour': '#ba_journalism#g3', 'favcourcorl': '#1.0#0.6831300510639732', 'input': 'ba_journalism'}, {'favcour': '#ba_psychology#ba_political_science#ba_philosophy', 'favcourcorl': '#1.0#0.9999999999999999#0.6708203932499369', 'input': 'ba_psychology'}, {'favcour': '#ba_german', 'favcourcorl': '#0.9999999999999999', 'input': 'ba_german'}, {'favcour': '#ba_french', 'favcourcorl': '#0.9999999999999999', 'input': 'ba_french'}, {'favcour': '', 'favcourcorl': '', 'input': 'ba_italian'}, {'favcour': '', 'favcourcorl': '', 'input': 'ba_hebrew'}, {'favcour': '', 'favcourcorl': '', 'input': 'ba_spanish'}, {'favcour': '', 'favcourcorl': '', 'input': 'ba_russian'}, {'favcour': '', 'favcourcorl': '', 'input': 'ba_chinese'}, {'favcour': '#ba_japanese#g3', 'favcourcorl': '#0.9999999999999999#0.9999999999999999', 'input': 'ba_japanese'}, {'favcour': '#ba_photography#g3', 'favcourcorl': '#1.0#0.9707253433941512', 'input': 'ba_photography'}, {'favcour': '', 'favcourcorl': '', 'input': 'ba_korean'}, {'favcour': '#ba_agro_sciences#g3', 'favcourcorl': '#0.9999999999999999#0.9999999999999999', 'input': 'ba_agro_sciences'}, {'favcour': '#ba_airlines, hospitality_and_custome_care#ba_defence_and_strategic_studies#bsc_maths#g3', 'favcourcorl': '#1.0#0.9999999999999999#0.9999999999999999#0.6831300510639732', 'input': 'ba_airlines, hospitality_and_custome_care'}, {'favcour': '#ba_ancient_history#ba_history', 'favcourcorl': '#1.0#0.549399185367928', 'input': 'ba_ancient_history'}, {'favcour': '#ba_ancient_indian_culture#ba_history', 'favcourcorl': '#1.0#0.26024171938480806', 'input': 'ba_ancient_indian_culture'}, {'favcour': '', 'favcourcorl': '', 'input': 'ba_arabic'}, {'favcour': '#ba_cinematography', 'favcourcorl': '#1.0', 'input': 'ba_cinematography'}, {'favcour': '', 'favcourcorl': '', 'input': 'ba_corporate_secretaryship'}, {'favcour': '', 'favcourcorl': '', 'input': 'ba_comparative_religion'}, {'favcour': '#g1#ba_criminology#g3', 'favcourcorl': '#1.0#0.9999999999999999#0.9999999999999999', 'input': 'ba_criminology'}, {'favcour': '#ba_culinary_art#g3', 'favcourcorl': '#1.0#0.8660254037844385', 'input': 'ba_culinary_art'}, {'favcour': '#ba_defence_and_strategic_studies#ba_airlines, hospitality_and_custome_care#bsc_maths#g3#g1', 'favcourcorl': '#1.0#0.9999999999999999#0.9999999999999999#0.9449111825230678#0.576556660197055', 'input': 'ba_defence_and_strategic_studies'}, {'favcour': '#ba_drawing_and_painting#bsc_interior_design#textile_engineering#g1#g3', 'favcourcorl': '#1.0#0.8660254037844387#0.4999999999999999#0.42562826537937426#0.2553769592276245', 'input': 'ba_drawing_and_painting'}, {'favcour': '', 'favcourcorl': '', 'input': 'ba_education'}, {'favcour': '', 'favcourcorl': '', 'input': 'ba_punjabi'}, {'favcour': '', 'favcourcorl': '', 'input': 'ba_gujarati'}, {'favcour': '#b_com#bba#bsc_computer_science#g2', 'favcourcorl': '#1.0#0.9999999999999999#0.9999999999999999#0.1509031106344268', 'input': 'bba'}, {'favcour': '', 'favcourcorl': '', 'input': 'bsc_pcm'}, {'favcour': '#bsc_physics#bsc_chemistry#g2#bsc_information_technology', 'favcourcorl': '#1.0#0.6725596245673174#0.43082021842766455#0.2401922307076307', 'input': 'bsc_physics'}, {'favcour': '#bsc_chemistry#petroleum_engineering#bsc_physics#g2#bsc_biochemistry#bsc_maths', 'favcourcorl': '#1.0#0.9999999999999999#0.6725596245673174#0.4445906192369001#0.15947323018612516#0.08559209850218258', 'input': 'bsc_chemistry'}, {'favcour': '#bsc_maths#ba_airlines, hospitality_and_custome_care#engineering_physics#ba_defence_and_strategic_studies#mechanical_engineering#bsc_statistics#g1#bsc_computer_science#g3#bsc_chemistry', 'favcourcorl': '#1.0#0.9999999999999999#0.9999999999999999#0.9999999999999999#0.9999999999999999#0.9433674358115995#0.3497753177207346#0.32483762177352626#0.18511804120656908#0.08559209850218256', 'input': 'bsc_maths'}, {'favcour': '#bfsc_fisheries_science#bsc_food_technology#bsc_biochemistry#bsc_zoology#bsc_information_technology#bpharm_bachelor_of_pharmacy#biotechnology_engineering#bsc_health_science_and_nutrition#marine_engineering#bsc_microbiology#bsc_botany#water_resources_engineering#g1#bsc_genetics', 'favcourcorl': '#0.9999999999999999#0.9999999999999999#0.9999999999999999#0.9999999999999998#0.9999999999999998#0.944911182523068#0.8660254037844385#0.6933752452815366#0.5000000000000001#0.20005557871442567#0.18460367521516027#0.13005121775247103#0.09904226986143264#0.03316790634033297', 'input': 'bsc_zoology'}, {'favcour': '#bsc_statistics#bsc_maths#g1#bsc_computer_science#g3#g2', 'favcourcorl': '#0.9999999999999998#0.9433674358115994#0.9240168324218908#0.5#0.03455989560162509#0.016802618724168855', 'input': 'bsc_statistics'}, {'favcour': '#bsc_botany#bsc_food_technology#bsc_agriculture#bsc_genetics#biotechnology_engineering#bsc_environmental_science#bsc_zoology#bsc_microbiology#bsc_forestry', 'favcourcorl': '#1.0#0.9999999999999999#0.7499999999999999#0.5056498968474316#0.40618119722996165#0.3458572319330373#0.18460367521516027#0.07052727217133421#0.01768872844193064', 'input': 'bsc_botany'}, {'favcour': '#bsc_home_science#environmental_engineering', 'favcourcorl': '#1.0#0.944911182523068', 'input': 'bsc_home_science'}, {'favcour': '#bsc_agriculture#bsc_food_technology#agriculture_and_food_engineering#bsc_forestry#bsc_botany#environmental_engineering#g3#g2', 'favcourcorl': '#1.0#0.9999999999999999#0.8660254037844387#0.7559289460184544#0.75#0.5958607879522988#0.08653946167670291#0.013960839442322112', 'input': 'bsc_agriculture'}, {'favcour': '#bsc_animation', 'favcourcorl': '#0.9999999999999998', 'input': 'bsc_animation'}, {'favcour': '#bsc_aquaculture', 'favcourcorl': '#1.0', 'input': 'bsc_aquaculture'}, {'favcour': '', 'favcourcorl': '', 'input': 'bsc_aviation'}, {'favcour': '#bsc_biochemistry#bsc_zoology#petroleum_engineering#bsc_chemistry', 'favcourcorl': '#1.0#0.9999999999999999#0.9999999999999999#0.15947323018612516', 'input': 'bsc_biochemistry'}, {'favcour': '#bsc_bioinformatics#bsc_genetics#bsc_nursing#bsc_biotechnology', 'favcourcorl': '#0.9999999999999999#0.75#0.502518907629606#0.256556259657607', 'input': 'bsc_bioinformatics'}, {'favcour': '#bba#bsc_computer_science#electronics_engineering#electrical_engineering#bsc_electronic#bsc_statistics#g3#bsc_maths', 'favcourcorl': '#0.9999999999999999#0.9999999999999999#0.8660254037844387#0.5000000000000001#0.5000000000000001#0.5#0.42365927286816174#0.32483762177352626', 'input': 'bsc_computer_science'}, {'favcour': '#bsc_dietetics#g2#bsc_sports_science', 'favcourcorl': '#1.0#0.3227486121839514#0.2773500981126145', 'input': 'bsc_dietetics'}, {'favcour': '#bsc_electronic#electrical_engineering#g2#bsc_computer_science', 'favcourcorl': '#1.0#1.0#0.8221921916437787#0.5000000000000001', 'input': 'bsc_electronic'}, {'favcour': '#bsc_fashion_technology#g2#g1', 'favcourcorl': '#0.9999999999999999#0.7898146473051764#0.6965260331469924', 'input': 'bsc_fashion_technology'}, {'favcour': '#bsc_food_technology#bsc_agriculture#bsc_botany#bsc_forestry#bsc_zoology#environmental_engineering#g3', 'favcourcorl': '#1.0#0.9999999999999999#0.9999999999999999#0.9999999999999999#0.9999999999999999#0.4193139346887673#0.2659489427040308', 'input': 'bsc_food_technology'}, {'favcour': '#g2#bsc_forensic_science#g1', 'favcourcorl': '#0.9999999999999999#0.9999999999999998#0.654653670707977', 'input': 'bsc_forensic_science'}, {'favcour': '#bsc_food_technology#bsc_forestry#bsc_nutrition#bsc_agriculture#environmental_engineering#bsc_biotechnology#g1#bsc_botany', 'favcourcorl': '#0.9999999999999999#0.9999999999999999#0.9999999999999999#0.7559289460184544#0.6546536707079771#0.5#0.46740201605326304#0.01768872844193064', 'input': 'bsc_forestry'}, {'favcour': '#bsc_medical_technology#g2', 'favcourcorl': '#1.0#0.07495316889958614', 'input': 'bsc_medical_technology'}, {'favcour': '#bsc_microbiology#bsc_speech_therapy#bsc_nursing#bsc_zoology#bsc_botany#g1#g2', 'favcourcorl': '#1.0#0.9999999999999999#0.6428571428571428#0.20005557871442567#0.07052727217133421#0.051780813833433345#0.03295310813728098', 'input': 'bsc_microbiology'}, {'favcour': '#bsc_multimedia#g1', 'favcourcorl': '#0.9999999999999999#0.4883720930232558', 'input': 'bsc_multimedia'}, {'favcour': '#bsc_nautical_science#g1', 'favcourcorl': '#0.9999999999999999#0.9999999999999999', 'input': 'bsc_nautical_science'}, {'favcour': '#bsc_nursing#bsc_speech_therapy#bsc_radiology#bsc_sports_science#bpharm_bachelor_of_pharmacy#bsc_microbiology#mbbs#bsc_bioinformatics#bsc_biotechnology#bhms# pharm_d#bds', 'favcourcorl': '#1.0#0.9999999999999999#0.9999999999999999#0.7559289460184545#0.6459663176805029#0.6428571428571428#0.5403222859449625#0.502518907629606#0.5000000000000001#0.21633624888217282#0.19488264426220098#0.047710320831448515', 'input': 'bsc_nursing'}, {'favcour': '#bsc_nutrition#bsc_forestry', 'favcourcorl': '#1.0#0.9999999999999999', 'input': 'bsc_nutrition'}, {'favcour': '#bsc_physiotherapy#g1#bums#baslp_bachelor_of_audiology_speech_language_pathology', 'favcourcorl': '#1.0#0.39652579285907225#0.3952847075210474#0.06666666666666667', 'input': 'bsc_physiotherapy'}, {'favcour': '#g2#bsc_psychology#g1', 'favcourcorl': '#1.0#0.9999999999999999#0.9999999999999999', 'input': 'bsc_psychology'}, {'favcour': '#bot_bachelor_of_occupational_therapy#bpharm_bachelor_of_pharmacy#bsc_genetics#bums#water_resources_engineering#bhms#bsc_bioinformatics#bsc_botany#bsc_biotechnology#mbbs#g1#bsc_zoology', 'favcourcorl': '#1.0#1.0#1.0#1.0#0.9999999999999999#0.9999999999999999#0.75#0.5056498968474316#0.45531404734081343#0.3711537444790451#0.15498369746904705#0.03316790634033297', 'input': 'bsc_genetics'}, {'favcour': '#bsc_information_technology#bsc_zoology#g2#bsc_physics', 'favcourcorl': '#0.9999999999999999#0.9999999999999999#0.3165565421576398#0.2401922307076307', 'input': 'bsc_information_technology'}, {'favcour': '#bsc_interior_design#ba_drawing_and_painting#g1', 'favcourcorl': '#1.0#0.8660254037844387#0.8660254037844387', 'input': 'bsc_interior_design'}, {'favcour': '#bsc_biotechnology#water_resources_engineering#bsc_nursing#bsc_forestry#bsc_genetics#biotechnology_engineering#bsc_bioinformatics#g2', 'favcourcorl': '#1.0#0.6546536707079771#0.5000000000000001#0.5#0.4553140473408135#0.30151134457776363#0.2565562596576069#0.08684410999797729', 'input': 'bsc_biotechnology'}, {'favcour': '#b_com#bba#g3', 'favcourcorl': '#1.0#1.0#0.05241424183609594', 'input': 'b_com'}, {'favcour': '#g3#llb ', 'favcourcorl': '#1.0#1.0', 'input': 'llb '}, {'favcour': '#aerospac_engineering', 'favcourcorl': '#1.0', 'input': 'aerospac_engineering'}, {'favcour': '#agriculture_and_food_engineering#bsc_agriculture#g2#environmental_engineering#g1', 'favcourcorl': '#1.0#0.8660254037844387#0.7748388442260595#0.6546536707079771#0.043852900965351424', 'input': 'agriculture_and_food_engineering'}, {'favcour': '#automobile_engineering', 'favcourcorl': '#1.0', 'input': 'automobile_engineering'}, {'favcour': '#biotechnology_engineering#environmental_engineering#petroleum_engineering#bsc_zoology#bsc_botany#bsc_biotechnology#g1', 'favcourcorl': '#1.0#0.9999999999999999#0.9999999999999999#0.8660254037844385#0.4061811972299616#0.3015113445777637#0.1386750490563072', 'input': 'biotechnology_engineering'}, {'favcour': '#ceramic_engineering#structural_engineering#environmental_engineering', 'favcourcorl': '#1.0#0.9999999999999999#0.8322397195638239', 'input': 'ceramic_engineering'}, {'favcour': '#chemical_engineering', 'favcourcorl': '#0.9999999999999999', 'input': 'chemical_engineering'}, {'favcour': '#civil_engineering#mechanical_engineering', 'favcourcorl': '#1.0#1.0', 'input': 'civil_engineering'}, {'favcour': '#computer_engineering#information_technology_engineering', 'favcourcorl': '#1.0#0.948683298050514', 'input': 'computer_engineering'}, {'favcour': '#bsc_electronic#electrical_engineering#mechanical_engineering#bsc_computer_science', 'favcourcorl': '#1.0#1.0#1.0#0.5000000000000001', 'input': 'electrical_engineering'}, {'favcour': '#electronics_engineering#bsc_computer_science', 'favcourcorl': '#1.0#0.8660254037844387', 'input': 'electronics_engineering'}, {'favcour': '#engineering_physics#mechanical_engineering#production_and_industrial_engineering#bsc_maths#fire_protection_engineering#marine_engineering', 'favcourcorl': '#1.0#1.0#1.0#0.9999999999999999#0.9999999999999999#0.9999999999999999', 'input': 'engineering_physics'}, {'favcour': '#environmental_engineering#bsc_horticulture#biotechnology_engineering#bsc_home_science#ceramic_engineering#bsc_forestry#agriculture_and_food_engineering#bsc_agriculture#bsc_environmental_science#bsc_food_technology#g2', 'favcourcorl': '#1.0#1.0#0.9999999999999999#0.944911182523068#0.8322397195638239#0.6546536707079771#0.6546536707079771#0.5958607879522988#0.4631392019471828#0.4193139346887673#0.3339362845187969', 'input': 'environmental_engineering'}, {'favcour': '#industrial_and_production_engineering#process_engineering#production_and_industrial_engineering', 'favcourcorl': '#1.0#0.9999999999999999#0.9999999999999999', 'input': 'industrial_and_production_engineering'}, {'favcour': '#motorsport_engineering#production_and_industrial_engineering#industrial_engineering#mechanical_engineering#metallurgical_engineering', 'favcourcorl': '#1.0#0.9999999999999999#0.9999999999999998#0.8660254037844387#0.3273268353539886', 'input': 'industrial_engineering'}, {'favcour': '#information_technology_engineering#computer_engineering', 'favcourcorl': '#1.0#0.948683298050514', 'input': 'information_technology_engineering'}, {'favcour': '#instrumentation_engineering#g1', 'favcourcorl': '#1.0#0.40824829046386296', 'input': 'instrumentation_engineering'}, {'favcour': '#marine_engineering#engineering_physics#naval_architecture_and_ocean_engineering#bsc_zoology', 'favcourcorl': '#1.0#0.9999999999999999#0.7234097793129283#0.5000000000000001', 'input': 'marine_engineering'}, {'favcour': '#civil_engineering#mechanical_engineering#electrical_engineering#engineering_physics#bsc_maths#water_resources_engineering#industrial_engineering#corrosion_engineering#metallurgical_engineering#motorsport_engineering', 'favcourcorl': '#1.0#1.0#1.0#1.0#0.9999999999999999#0.9999999999999999#0.8660254037844387#0.8029550685469663#0.7339666906290183#0.5969620057957092', 'input': 'mechanical_engineering'}, {'favcour': '#process_engineering#metallurgical_engineering#motorsport_engineering#mechanical_engineering#molecular_engineering#industrial_engineering', 'favcourcorl': '#1.0#0.9999999999999998#0.9215506405654281#0.7339666906290183#0.6546536707079771#0.3273268353539886', 'input': 'metallurgical_engineering'}, {'favcour': '#naval_architecture_and_ocean_engineering#marine_engineering#g2', 'favcourcorl': '#0.9999999999999999#0.7234097793129283#0.08219949365267865', 'input': 'naval_architecture_and_ocean_engineering'}, {'favcour': '#biotechnology_engineering#bsc_biochemistry#bsc_chemistry#petroleum_engineering', 'favcourcorl': '#0.9999999999999999#0.9999999999999999#0.9999999999999999#0.9999999999999999', 'input': 'petroleum_engineering'}, {'favcour': '#textile_engineering#ba_drawing_and_painting', 'favcourcorl': '#1.0#0.4999999999999999', 'input': 'textile_engineering'}, {'favcour': '#engineering_physics#production_and_industrial_engineering#industrial_and_production_engineering#industrial_engineering#process_engineering', 'favcourcorl': '#1.0#1.0#0.9999999999999999#0.9999999999999999#0.9958705948858223', 'input': 'production_and_industrial_engineering'}, {'favcour': '#structural_engineering#ceramic_engineering#materials_engineering#g2', 'favcourcorl': '#1.0#0.9999999999999999#0.7559289460184545#0.5834500350116708', 'input': 'structural_engineering'}, {'favcour': '#industrial_engineering#motorsport_engineering#molecular_engineering#metallurgical_engineering#mechanical_engineering#g2', 'favcourcorl': '#1.0#1.0#0.9999999999999999#0.9215506405654282#0.5969620057957091#0.5188745216627708', 'input': 'motorsport_engineering'}, {'favcour': '#fire_protection_engineering#engineering_physics', 'favcourcorl': '#1.0#0.9999999999999999', 'input': 'fire_protection_engineering'}, {'favcour': '#naval_engineering#g2', 'favcourcorl': '#1.0#0.3651483716701107', 'input': 'naval_engineering'}, {'favcour': '#corrosion_engineering#mechanical_engineering#molecular_engineering#process_engineering', 'favcourcorl': '#1.0#0.8029550685469663#0.18498501834898595#0.1650152930741778', 'input': 'corrosion_engineering'}, {'favcour': '#materials_engineering#structural_engineering#molecular_engineering#process_engineering#g2', 'favcourcorl': '#0.9999999999999998#0.7559289460184545#0.7161148740394329#0.31100889556157085#0.16657063285479434', 'input': 'materials_engineering'}, {'favcour': '#motorsport_engineering#molecular_engineering#materials_engineering#metallurgical_engineering#process_engineering#corrosion_engineering', 'favcourcorl': '#0.9999999999999999#0.9999999999999998#0.7161148740394329#0.6546536707079771#0.48207910355566325#0.18498501834898595', 'input': 'molecular_engineering'}, {'favcour': '#metallurgical_engineering#process_engineering#industrial_and_production_engineering#production_and_industrial_engineering#molecular_engineering#materials_engineering#corrosion_engineering', 'favcourcorl': '#1.0#1.0#0.9999999999999999#0.9958705948858223#0.4820791035556633#0.31100889556157085#0.1650152930741778', 'input': 'process_engineering'}, {'favcour': '#corrosion_engineering#mechanical_engineering#molecular_engineering#process_engineering', 'favcourcorl': '#1.0#0.8029550685469663#0.18498501834898595#0.1650152930741778', 'input': 'corrosion_engineering'}, {'favcour': '#environmental_engineering#bsc_horticulture#biotechnology_engineering#bsc_home_science#ceramic_engineering#bsc_forestry#agriculture_and_food_engineering#bsc_agriculture#bsc_environmental_science#bsc_food_technology#g2', 'favcourcorl': '#1.0#1.0#0.9999999999999999#0.944911182523068#0.8322397195638239#0.6546536707079771#0.6546536707079771#0.5958607879522988#0.4631392019471828#0.4193139346887673#0.3339362845187969', 'input': 'environmental_engineering'}, {'favcour': '#water_resources_engineering#bsc_genetics#mechanical_engineering#bsc_biotechnology#g2#bsc_zoology#g1', 'favcourcorl': '#1.0#0.9999999999999999#0.9999999999999999#0.6546536707079771#0.40300881799602145#0.13005121775247105#0.06106194212060933', 'input': 'water_resources_engineering'}, {'favcour': '#bot_bachelor_of_occupational_therapy#mbbs#g1#bsc_nursing#bds#bsc_genetics# pharm_d#bpharm_bachelor_of_pharmacy#baslp_bachelor_of_audiology_speech_language_pathology#bpt_physiotherapy#bhms', 'favcourcorl': '#1.0#1.0#0.8393750648220737#0.5403222859449625#0.47995494163673447#0.3711537444790451#0.31238426942085806#0.2926675359465791#0.2773500981126145#0.11470786693528091#0.051791235524408515', 'input': 'mbbs'}, {'favcour': '#bds#mbbs#bpharm_bachelor_of_pharmacy# pharm_d#bsc_nursing', 'favcourcorl': '#1.0#0.47995494163673447#0.22492723230620004#0.1351246254851815#0.04771032083144852', 'input': 'bds'}, {'favcour': '#bsc_nursing#bsc_speech_therapy#bsc_radiology#bsc_sports_science#bpharm_bachelor_of_pharmacy#bsc_microbiology#mbbs#bsc_bioinformatics#bsc_biotechnology#bhms# pharm_d#bds', 'favcourcorl': '#1.0#0.9999999999999999#0.9999999999999999#0.7559289460184545#0.6459663176805029#0.6428571428571428#0.5403222859449625#0.502518907629606#0.5000000000000001#0.21633624888217282#0.19488264426220098#0.047710320831448515', 'input': 'bsc_nursing'}, {'favcour': '#bpharm_bachelor_of_pharmacy#bsc_genetics#bsc_zoology# pharm_d#bsc_nursing#bpt_physiotherapy#mbbs#bds#g1', 'favcourcorl': '#1.0#1.0#0.944911182523068#0.6623360560149459#0.6459663176805028#0.560611910581388#0.2926675359465791#0.22492723230620007#0.07211221465358642', 'input': 'bpharm_bachelor_of_pharmacy'}, {'favcour': '# pharm_d#bpharm_bachelor_of_pharmacy#mbbs#bsc_nursing#bds#g1', 'favcourcorl': '#1.0#0.662336056014946#0.31238426942085806#0.19488264426220098#0.13512462548518148#0.06150692760785473', 'input': ' pharm_d'}, {'favcour': '#bhms#bpt_physiotherapy#bsc_genetics#bsc_occupational_therapy#bums#bot_bachelor_of_occupational_therapy#bsc_nursing#g1#mbbs', 'favcourcorl': '#1.0#1.0#0.9999999999999999#0.9999999999999999#0.8754695826968961#0.7924058156930615#0.21633624888217282#0.12580490207067804#0.051791235524408515', 'input': 'bhms'}, {'favcour': '#bot_bachelor_of_occupational_therapy#bsc_genetics#bums#bhms#bsc_physiotherapy#g1', 'favcourcorl': '#1.0#1.0#1.0#0.8754695826968962#0.3952847075210474#0.15734186912851272', 'input': 'bums'}, {'favcour': '#bhms#bpt_physiotherapy#bot_bachelor_of_occupational_therapy#bpharm_bachelor_of_pharmacy#g1#mbbs', 'favcourcorl': '#1.0#1.0#0.8904642299886247#0.5606119105813882#0.4254814716983816#0.1147078669352809', 'input': 'bpt_physiotherapy'}, {'favcour': '#bot_bachelor_of_occupational_therapy#bsc_genetics#bums#mbbs#bpt_physiotherapy#bhms#baslp_bachelor_of_audiology_speech_language_pathology', 'favcourcorl': '#1.0#1.0#1.0#1.0#0.8904642299886247#0.7924058156930615#0.5', 'input': 'bot_bachelor_of_occupational_therapy'}, {'favcour': '#baslp_bachelor_of_audiology_speech_language_pathology#bot_bachelor_of_occupational_therapy#bsc_speech_therapy#bsc_occupational_therapy#mbbs#bsc_physiotherapy', 'favcourcorl': '#0.9999999999999998#0.5#0.5#0.3273268353539886#0.2773500981126145#0.06666666666666667', 'input': 'baslp_bachelor_of_audiology_speech_language_pathology'}, {'favcour': '#bsc_environmental_science#g2#g1#environmental_engineering#bsc_botany', 'favcourcorl': '#0.9999999999999999#0.6708203932499368#0.5547001962252291#0.4631392019471828#0.3458572319330373', 'input': 'bsc_environmental_science'}, {'favcour': '#bsc_biotechnology#water_resources_engineering#bsc_nursing#bsc_forestry#bsc_genetics#biotechnology_engineering#bsc_bioinformatics#g2', 'favcourcorl': '#1.0#0.6546536707079771#0.5000000000000001#0.5#0.4553140473408135#0.30151134457776363#0.2565562596576069#0.08684410999797729', 'input': 'bsc_biotechnology'}, {'favcour': '#bsc_health_science_and_nutrition#bhms#bsc_occupational_therapy#baslp_bachelor_of_audiology_speech_language_pathology', 'favcourcorl': '#1.0#0.9999999999999999#0.9999999999999999#0.3273268353539886', 'input': 'bsc_occupational_therapy'}, {'favcour': '#bsc_physiotherapy#g1#bums#baslp_bachelor_of_audiology_speech_language_pathology', 'favcourcorl': '#1.0#0.39652579285907225#0.3952847075210474#0.06666666666666667', 'input': 'bsc_physiotherapy'}, {'favcour': '#bsc_nursing#bsc_radiology#bsc_speech_therapy', 'favcourcorl': '#0.9999999999999999#0.9999999999999999#0.9999999999999999', 'input': 'bsc_radiology'}, {'favcour': '#bsc_bioinformatics#bsc_genetics#bsc_nursing#bsc_biotechnology', 'favcourcorl': '#0.9999999999999999#0.75#0.502518907629606#0.256556259657607', 'input': 'bsc_bioinformatics'}, {'favcour': '#bsc_anthropology', 'favcourcorl': '#1.0', 'input': 'bsc_anthropology'}, {'favcour': '#bsc_microbiology#bsc_speech_therapy#bsc_nursing#bsc_zoology#bsc_botany#g1#g2', 'favcourcorl': '#1.0#0.9999999999999999#0.6428571428571428#0.20005557871442567#0.07052727217133421#0.051780813833433345#0.03295310813728098', 'input': 'bsc_microbiology'}, {'favcour': '#bfsc_fisheries_science#bsc_food_technology#bsc_biochemistry#bsc_zoology#bsc_information_technology#bpharm_bachelor_of_pharmacy#biotechnology_engineering#bsc_health_science_and_nutrition#marine_engineering#bsc_microbiology#bsc_botany#water_resources_engineering#g1#bsc_genetics', 'favcourcorl': '#0.9999999999999999#0.9999999999999999#0.9999999999999999#0.9999999999999998#0.9999999999999998#0.944911182523068#0.8660254037844385#0.6933752452815366#0.5000000000000001#0.20005557871442567#0.18460367521516027#0.13005121775247103#0.09904226986143264#0.03316790634033297', 'input': 'bsc_zoology'}, {'favcour': '#g2#bsc_forensic_science#g1', 'favcourcorl': '#0.9999999999999999#0.9999999999999998#0.654653670707977', 'input': 'bsc_forensic_science'}, {'favcour': '#bsc_agriculture#bsc_food_technology#agriculture_and_food_engineering#bsc_forestry#bsc_botany#environmental_engineering#g3#g2', 'favcourcorl': '#1.0#0.9999999999999999#0.8660254037844387#0.7559289460184544#0.75#0.5958607879522988#0.08653946167670291#0.013960839442322112', 'input': 'bsc_agriculture'}, {'favcour': '#bsc_pathology', 'favcourcorl': '#1.0', 'input': 'bsc_pathology'}, {'favcour': '#bsc_speech_therapy#bsc_microbiology#bsc_nursing#bsc_radiology#baslp_bachelor_of_audiology_speech_language_pathology', 'favcourcorl': '#1.0#0.9999999999999999#0.9999999999999999#0.9999999999999999#0.5', 'input': 'bsc_speech_therapy'}, {'favcour': '#bfsc_fisheries_science#bsc_zoology', 'favcourcorl': '#1.0#0.9999999999999999', 'input': 'bfsc_fisheries_science'}, {'favcour': '#bsc_horticulture#environmental_engineering', 'favcourcorl': '#1.0#1.0', 'input': 'bsc_horticulture'}, {'favcour': '#bot_bachelor_of_occupational_therapy#bpharm_bachelor_of_pharmacy#bsc_genetics#bums#water_resources_engineering#bhms#bsc_bioinformatics#bsc_botany#bsc_biotechnology#mbbs#g1#bsc_zoology', 'favcourcorl': '#1.0#1.0#1.0#1.0#0.9999999999999999#0.9999999999999999#0.75#0.5056498968474316#0.45531404734081343#0.3711537444790451#0.15498369746904705#0.03316790634033297', 'input': 'bsc_genetics'}, {'favcour': '#bsc_health_science_and_nutrition#bsc_occupational_therapy#bsc_zoology#g1', 'favcourcorl': '#1.0#1.0#0.6933752452815365#0.43497511917084863', 'input': 'bsc_health_science_and_nutrition'}, {'favcour': '#bsc_sports_science#bsc_nursing#g1#g2#bsc_dietetics', 'favcourcorl': '#1.0#0.7559289460184544#0.7332132200228391#0.5738190417570045#0.2773500981126145', 'input': 'bsc_sports_science'}, {'favcour': '#bsc_audiology', 'favcourcorl': '#1.0', 'input': 'bsc_audiology'}, {'favcour': '#bsc_botany#bsc_food_technology#bsc_agriculture#bsc_genetics#biotechnology_engineering#bsc_environmental_science#bsc_zoology#bsc_microbiology#bsc_forestry', 'favcourcorl': '#1.0#0.9999999999999999#0.7499999999999999#0.5056498968474316#0.40618119722996165#0.3458572319330373#0.18460367521516027#0.07052727217133421#0.01768872844193064', 'input': 'bsc_botany'}, {'favcour': '#g1#ba_criminology#bsc_nautical_science#bsc_psychology#bsc_statistics#bsc_interior_design#mbbs#bsc_sports_science#bsc_fashion_technology#bsc_forensic_science#ba_geography#ba_tamil#ba_defence_and_strategic_studies#bsc_environmental_science#bsc_multimedia#bsc_forestry#bsc_health_science_and_nutrition#ba_drawing_and_painting#bpt_physiotherapy#instrumentation_engineering#bsc_physiotherapy#bsc_maths#g2#bums#bsc_genetics#biotechnology_engineering#ba_political_science#bhms#bsc_zoology#bpharm_bachelor_of_pharmacy# pharm_d#water_resources_engineering#bsc_microbiology#agriculture_and_food_engineering', 'favcourcorl': '#1.0#1.0#0.9999999999999999#0.9999999999999999#0.9240168324218908#0.8660254037844387#0.8393750648220738#0.7332132200228392#0.6965260331469922#0.654653670707977#0.6000000000000002#0.5960395606792698#0.5765566601970551#0.5547001962252291#0.4883720930232558#0.46740201605326304#0.43497511917084863#0.42562826537937426#0.42548147169838163#0.4082482904638629#0.39652579285907225#0.3497753177207346#0.20018836473519735#0.15734186912851272#0.15498369746904703#0.1386750490563072#0.13245323570650436#0.12580490207067804#0.09904226986143264#0.07211221465358642#0.06150692760785473#0.06106194212060933#0.05178081383343335#0.043852900965351424', 'input': 'g1'}, {'favcour': '#bsc_psychology#bsc_forensic_science#g2#bsc_electronic#bsc_fashion_technology#agriculture_and_food_engineering#bsc_environmental_science#structural_engineering#bsc_sports_science#motorsport_engineering#bsc_chemistry#bsc_physics#water_resources_engineering#naval_engineering#environmental_engineering#bsc_dietetics#bsc_information_technology#ba_english#g1#materials_engineering#ba_history#bba#bsc_biotechnology#naval_architecture_and_ocean_engineering#bsc_medical_technology#bsc_microbiology#bsc_statistics#bsc_agriculture', 'favcourcorl': '#1.0#1.0#0.9999999999999998#0.8221921916437785#0.7898146473051764#0.7748388442260595#0.6708203932499368#0.5834500350116708#0.5738190417570045#0.5188745216627708#0.44459061923690013#0.43082021842766455#0.40300881799602145#0.36514837167011077#0.33393628451879687#0.32274861218395146#0.3165565421576398#0.21627614555592958#0.20018836473519738#0.16657063285479434#0.16035674514745465#0.1509031106344268#0.08684410999797729#0.08219949365267865#0.07495316889958614#0.03295310813728098#0.016802618724168855#0.013960839442322112', 'input': 'g2'}, {'favcour': '#llb #ba_criminology#ba_japanese#g3#ba_agro_sciences#ba_photography#ba_defence_and_strategic_studies#ba_culinary_art#ba_airlines, hospitality_and_custome_care#ba_journalism#ba_social_work#ba_philosophy#bsc_computer_science#ba_rural_studies#ba_economics#bsc_food_technology#ba_drawing_and_painting#bsc_maths#ba_political_science#bsc_agriculture#b_com#bsc_statistics', 'favcourcorl': '#1.0#0.9999999999999999#0.9999999999999999#0.9999999999999999#0.9999999999999999#0.9707253433941511#0.9449111825230679#0.8660254037844385#0.6831300510639732#0.6831300510639732#0.5144957554275265#0.4274373669939282#0.42365927286816174#0.4225771273642583#0.31108550841912763#0.26594894270403086#0.25537695922762443#0.18511804120656908#0.13245323570650436#0.08653946167670291#0.05241424183609595#0.03455989560162509', 'input': 'g3'}]\n"
          ],
          "name": "stdout"
        }
      ]
    },
    {
      "cell_type": "code",
      "metadata": {
        "id": "o9Zzj-hI6c4n",
        "colab_type": "code",
        "colab": {
          "base_uri": "https://localhost:8080/",
          "height": 459
        },
        "outputId": "0a37c044-89ca-4513-aa23-8ba60f3a1ffb"
      },
      "source": [
        "kf= pd.read_csv(\"plain list (1).csv\")\n",
        "list = [(k, v) for k, v in df.items()] \n",
        "for i in list:\n",
        "  for k in i:\n",
        "    print(k)"
      ],
      "execution_count": 66,
      "outputs": [
        {
          "output_type": "stream",
          "text": [
            "Item_id\n",
            "0        1\n",
            "1        2\n",
            "2        3\n",
            "3        4\n",
            "4        5\n",
            "      ... \n",
            "148    149\n",
            "149    150\n",
            "150    151\n",
            "151    152\n",
            "152    153\n",
            "Name: Item_id, Length: 153, dtype: int64\n",
            "Course\n",
            "0                ba_english\n",
            "1      ba_political_science\n",
            "2                ba_history\n",
            "3             ba_psychology\n",
            "4             ba_philosophy\n",
            "               ...         \n",
            "148           bsc_audiology\n",
            "149              bsc_botany\n",
            "150                      g1\n",
            "151                      g2\n",
            "152                      g3\n",
            "Name: Course, Length: 153, dtype: object\n"
          ],
          "name": "stdout"
        }
      ]
    },
    {
      "cell_type": "code",
      "metadata": {
        "id": "xfn2KQ7dNqUp",
        "colab_type": "code",
        "colab": {
          "base_uri": "https://localhost:8080/",
          "height": 1000
        },
        "outputId": "e43bcc3a-04e9-400d-d85e-b7a08380659e"
      },
      "source": [
        "kiss=df.values.tolist()\n",
        "for i in kiss:\n",
        "  print(i[1])"
      ],
      "execution_count": 70,
      "outputs": [
        {
          "output_type": "stream",
          "text": [
            "ba_english\n",
            "ba_political_science\n",
            "ba_history\n",
            "ba_psychology\n",
            "ba_philosophy\n",
            "ba_social_work\n",
            "ba_economics\n",
            "ba_archaeology\n",
            "ba_sociology\n",
            "ba_geography\n",
            "ba_anthropology\n",
            "ba_linguistics\n",
            "ba_rural_studies\n",
            "ba_hindi\n",
            "ba_bengali\n",
            "ba_tamil\n",
            "ba_marathi\n",
            "ba_telugu\n",
            "ba_kannada\n",
            "ba_malayalam\n",
            "ba_assamese\n",
            "ba_bihari\n",
            "ba_odiya\n",
            "ba_journalism\n",
            "ba_psychology\n",
            "ba_german\n",
            "ba_french\n",
            "ba_italian\n",
            "ba_hebrew\n",
            "ba_spanish\n",
            "ba_russian\n",
            "ba_chinese\n",
            "ba_japanese\n",
            "ba_photography\n",
            "ba_korean\n",
            "ba_agro_sciences\n",
            "ba_airlines, hospitality_and_custome_care\n",
            "ba_ancient_history\n",
            "ba_ancient_indian_culture\n",
            "ba_arabic\n",
            "ba_cinematography\n",
            "ba_corporate_secretaryship\n",
            "ba_comparative_religion\n",
            "ba_criminology\n",
            "ba_culinary_art\n",
            "ba_defence_and_strategic_studies\n",
            "ba_drawing_and_painting\n",
            "ba_education\n",
            "ba_punjabi\n",
            "ba_gujarati\n",
            "bba\n",
            "bsc_pcm\n",
            "bsc_physics\n",
            "bsc_chemistry\n",
            "bsc_maths\n",
            "bsc_zoology\n",
            "bsc_statistics\n",
            "bsc_botany\n",
            "bsc_home_science\n",
            "bsc_agriculture\n",
            "bsc_animation\n",
            "bsc_aquaculture\n",
            "bsc_aviation\n",
            "bsc_biochemistry\n",
            "bsc_bioinformatics\n",
            "bsc_computer_science\n",
            "bsc_dietetics\n",
            "bsc_electronic\n",
            "bsc_fashion_technology\n",
            "bsc_food_technology\n",
            "bsc_forensic_science\n",
            "bsc_forestry\n",
            "bsc_medical_technology\n",
            "bsc_microbiology\n",
            "bsc_multimedia\n",
            "bsc_nautical_science\n",
            "bsc_nursing\n",
            "bsc_nutrition\n",
            "bsc_physiotherapy\n",
            "bsc_psychology\n",
            "bsc_genetics\n",
            "bsc_information_technology\n",
            "bsc_interior_design\n",
            "bsc_biotechnology\n",
            "b_com\n",
            "llb \n",
            "aerospac_engineering\n",
            "agriculture_and_food_engineering\n",
            "automobile_engineering\n",
            "biotechnology_engineering\n",
            "ceramic_engineering\n",
            "chemical_engineering\n",
            "civil_engineering\n",
            "computer_engineering\n",
            "electrical_engineering\n",
            "electronics_engineering\n",
            "engineering_physics\n",
            "environmental_engineering\n",
            "industrial_and_production_engineering\n",
            "industrial_engineering\n",
            "information_technology_engineering\n",
            "instrumentation_engineering\n",
            "marine_engineering\n",
            "mechanical_engineering\n",
            "metallurgical_engineering\n",
            "naval_architecture_and_ocean_engineering\n",
            "petroleum_engineering\n",
            "textile_engineering\n",
            "production_and_industrial_engineering\n",
            "structural_engineering\n",
            "motorsport_engineering\n",
            "fire_protection_engineering\n",
            "naval_engineering\n",
            "corrosion_engineering\n",
            "materials_engineering\n",
            "molecular_engineering\n",
            "process_engineering\n",
            "corrosion_engineering\n",
            "environmental_engineering\n",
            "water_resources_engineering\n",
            "mbbs\n",
            "bds\n",
            "bsc_nursing\n",
            "bpharm_bachelor_of_pharmacy\n",
            " pharm_d\n",
            "bhms\n",
            "bums\n",
            "bpt_physiotherapy\n",
            "bot_bachelor_of_occupational_therapy\n",
            "baslp_bachelor_of_audiology_speech_language_pathology\n",
            "bsc_environmental_science\n",
            "bsc_biotechnology\n",
            "bsc_occupational_therapy\n",
            "bsc_physiotherapy\n",
            "bsc_radiology\n",
            "bsc_bioinformatics\n",
            "bsc_anthropology\n",
            "bsc_microbiology\n",
            "bsc_zoology\n",
            "bsc_forensic_science\n",
            "bsc_agriculture\n",
            "bsc_pathology\n",
            "bsc_speech_therapy\n",
            "bfsc_fisheries_science\n",
            "bsc_horticulture\n",
            "bsc_genetics\n",
            "bsc_health_science_and_nutrition\n",
            "bsc_sports_science\n",
            "bsc_audiology\n",
            "bsc_botany\n",
            "g1\n",
            "g2\n",
            "g3\n"
          ],
          "name": "stdout"
        }
      ]
    }
  ]
}